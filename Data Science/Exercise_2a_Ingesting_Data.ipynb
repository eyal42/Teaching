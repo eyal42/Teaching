{
 "cells": [
  {
   "cell_type": "markdown",
   "metadata": {},
   "source": [
    "# Lending Club Part 1 - Ingestion, Cleaning and Pre Processing"
   ]
  },
  {
   "cell_type": "code",
   "execution_count": 4,
   "metadata": {},
   "outputs": [],
   "source": [
    "import pandas as pd\n",
    "import os\n",
    "from sys import platform\n",
    "import matplotlib.pyplot as plt\n",
    "import datetime\n",
    "import numpy as np\n",
    "import pickle\n",
    "import seaborn"
   ]
  },
  {
   "cell_type": "code",
   "execution_count": 5,
   "metadata": {},
   "outputs": [],
   "source": [
    "def is_integer(x):\n",
    "    '''\n",
    "    This function returns True if x is an integer, and False otherwise\n",
    "    '''\n",
    "    try:\n",
    "        return (int(x) == float(x))\n",
    "    except:\n",
    "        return False"
   ]
  },
  {
   "cell_type": "markdown",
   "metadata": {},
   "source": [
    "## Ingestion"
   ]
  },
  {
   "cell_type": "markdown",
   "metadata": {},
   "source": [
    "Function ingests files in specified directory into a pandas dataframe. It will return a dictionary containing these dataframes, keyed by the file name. We assume the directory is a replication of 'Lending Club Data->2016' directory on Canvas"
   ]
  },
  {
   "cell_type": "code",
   "execution_count": 6,
   "metadata": {},
   "outputs": [],
   "source": [
    "dir_2016 = \"./data/2016/securev/\"\n",
    "pickle_file = \"./data/pickle/clean_data.pickle\""
   ]
  },
  {
   "cell_type": "code",
   "execution_count": 7,
   "metadata": {},
   "outputs": [
    {
     "name": "stdout",
     "output_type": "stream",
     "text": [
      "Directory ./data/2016/securev/ has 4 files:\n",
      "    Reading file LoanStats_securev1_2016Q2.csv\n",
      "        Found 2 invalid rows which were removed\n",
      "    Reading file LoanStats_securev1_2016Q3.csv\n",
      "        Found 2 invalid rows which were removed\n",
      "    Reading file LoanStats_securev1_2016Q1.csv\n",
      "        Found 2 invalid rows which were removed\n",
      "    Reading file LoanStats_securev1_2016Q4.csv\n",
      "        Found 2 invalid rows which were removed\n"
     ]
    }
   ],
   "source": [
    "def ingest_files(directory):\n",
    "    # If the directory has no trailing slash, add one\n",
    "    if directory[-1] != \"/\":\n",
    "        directory = directory + \"/\"\n",
    "    all_files = os.listdir(directory)\n",
    "    output = {}\n",
    "    \n",
    "    print(\"Directory \" + directory + \" has \" + str(len(all_files)) + \" files:\")\n",
    "    for i in all_files:\n",
    "        print(\"    Reading file \" + i)\n",
    "        output[i] = pd.read_csv(directory + i, dtype = str, skiprows = 1)     \n",
    "        # Remove lines with non-integer IDs\n",
    "        invalid_rows = (output[i].id.apply( lambda x : is_integer(x) == False ))\n",
    "        if invalid_rows.sum() > 0:\n",
    "            print(\"        Found \" + str(invalid_rows.sum()) + \" invalid rows which were removed\")\n",
    "            output[i] = output[i][invalid_rows == False]\n",
    "    return output\n",
    "\n",
    "files_2016 = ingest_files(dir_2016)\n",
    "data_2016 = pd.concat(files_2016.values()).reset_index(drop = True)"
   ]
  },
  {
   "cell_type": "markdown",
   "metadata": {},
   "source": [
    "## Pre Process"
   ]
  },
  {
   "cell_type": "markdown",
   "metadata": {},
   "source": [
    "### Create new data frame including only columns of interest"
   ]
  },
  {
   "cell_type": "code",
   "execution_count": 9,
   "metadata": {},
   "outputs": [
    {
     "name": "stdout",
     "output_type": "stream",
     "text": [
      "Starting with 434407 rows\n"
     ]
    }
   ],
   "source": [
    "# Identify the columns we'll be keeping from the dataset\n",
    "cols_to_pick = ['id','loan_amnt','funded_amnt','term','int_rate',\n",
    "                 'installment','grade','emp_length', 'home_ownership',\n",
    "                 'annual_inc','verification_status','issue_d',\n",
    "                 'loan_status','purpose','dti', 'delinq_2yrs',\n",
    "                 'earliest_cr_line','open_acc','pub_rec', 'fico_range_high',\n",
    "                 'fico_range_low', 'revol_bal','revol_util', 'total_pymnt',\n",
    "                                                    'last_pymnt_d', 'recoveries']\n",
    "final_data = data_2016[cols_to_pick].copy()\n",
    "print(\"Starting with \" + str(len(final_data)) + \" rows\")"
   ]
  },
  {
   "cell_type": "markdown",
   "metadata": {},
   "source": [
    "### Typecast the columns"
   ]
  },
  {
   "cell_type": "code",
   "execution_count": 10,
   "metadata": {},
   "outputs": [],
   "source": [
    "# Identify the type of each of these column\n",
    "float_cols = ['loan_amnt', 'funded_amnt', 'installment', 'annual_inc',\n",
    "                     'dti', 'revol_bal', 'delinq_2yrs', 'open_acc', 'pub_rec',\n",
    "                                'fico_range_high', 'fico_range_low', 'total_pymnt', 'recoveries']\n",
    "cat_cols = ['term', 'grade', 'emp_length', 'home_ownership',\n",
    "                    'verification_status', 'loan_status', 'purpose']\n",
    "perc_cols = ['int_rate', 'revol_util']\n",
    "date_cols = ['issue_d', 'earliest_cr_line', 'last_pymnt_d']\n",
    "# Ensure that we have types for every column\n",
    "assert set(cols_to_pick) - set(float_cols) - set(cat_cols) - set(perc_cols) - set(date_cols) == set([\"id\"])\n",
    "# All categorical columns other than \"loan_status\" will be used as discrete features\n",
    "discrete_features = list(set(cat_cols) - set([\"loan_status\"]))\n",
    "# All numeric columns will be used as continuous features\n",
    "continuous_features = list(float_cols + perc_cols)"
   ]
  },
  {
   "cell_type": "code",
   "execution_count": 11,
   "metadata": {},
   "outputs": [],
   "source": [
    "for i in float_cols:\n",
    "    final_data[i] = final_data[i].astype(float)\n",
    "    \n",
    "def clean_perc(x):\n",
    "    if pd.isnull(x):\n",
    "        return np.nan\n",
    "    else:\n",
    "        return float(x.strip()[:-1])\n",
    "for i in perc_cols:\n",
    "    final_data[i] = final_data[i].apply( clean_perc )\n",
    "    \n",
    "def clean_date(x):\n",
    "    if pd.isnull(x):\n",
    "        return None\n",
    "    else:\n",
    "        return datetime.datetime.strptime( x, \"%b-%Y\").date()\n",
    "for i in date_cols:\n",
    "    final_data[i] = final_data[i].apply( clean_date )\n",
    "    \n",
    "for i in cat_cols:\n",
    "    final_data.loc[final_data[i].isnull(), i] = None"
   ]
  },
  {
   "cell_type": "markdown",
   "metadata": {},
   "source": [
    "## Clean Data"
   ]
  },
  {
   "cell_type": "markdown",
   "metadata": {},
   "source": [
    "### Loans payed back"
   ]
  },
  {
   "cell_type": "markdown",
   "metadata": {},
   "source": [
    "Remove all rows for loans that were paid back on the days they were issued and report how many rows were removed"
   ]
  },
  {
   "cell_type": "code",
   "execution_count": null,
   "metadata": {},
   "outputs": [],
   "source": [
    "###############################\n",
    "###   Write your code  here ##\n",
    "##############################\n",
    "    \n",
    "\n",
    "#############################"
   ]
  },
  {
   "cell_type": "code",
   "execution_count": 12,
   "metadata": {},
   "outputs": [
    {
     "name": "stdout",
     "output_type": "stream",
     "text": [
      "Removed 2553 rows\n"
     ]
    }
   ],
   "source": [
    "final_data['loan_length'] = (final_data.last_pymnt_d - final_data.issue_d) / np.timedelta64(1, 'M')\n",
    "n_rows = len(final_data)\n",
    "final_data = final_data[final_data.loan_length != 0]\n",
    "print(\"Removed \" + str(n_rows - len(final_data)) + \" rows\")"
   ]
  },
  {
   "cell_type": "markdown",
   "metadata": {},
   "source": [
    "### Handle outliers"
   ]
  },
  {
   "cell_type": "markdown",
   "metadata": {},
   "source": [
    "Write a script that removes rows where annual_inc>10999200 and revol_util>300, report how many rows were removed\n"
   ]
  },
  {
   "cell_type": "code",
   "execution_count": null,
   "metadata": {},
   "outputs": [],
   "source": [
    "###############################\n",
    "###   Write your code  here ##\n",
    "##############################\n",
    "    \n",
    "\n",
    "#############################"
   ]
  },
  {
   "cell_type": "markdown",
   "metadata": {},
   "source": [
    "Write a script that removes loans that are too recent to have been paid off or defaulted, report how many rows were removed"
   ]
  },
  {
   "cell_type": "code",
   "execution_count": null,
   "metadata": {},
   "outputs": [],
   "source": [
    "###############################\n",
    "###   Write your code  here ##\n",
    "##############################\n",
    "    \n",
    "\n",
    "#############################"
   ]
  },
  {
   "cell_type": "code",
   "execution_count": 16,
   "metadata": {},
   "outputs": [
    {
     "name": "stdout",
     "output_type": "stream",
     "text": [
      "Removed 0 rows\n"
     ]
    }
   ],
   "source": [
    "# There are quite a few outliers, but the two most obvious\n",
    "# ones to remove are in annual_inc, revol_util Remove these.\n",
    "n_rows = len(final_data)\n",
    "final_data = final_data[final_data.annual_inc < 10999200]\n",
    "final_data = final_data[final_data.revol_util < 300]\n",
    "print(\"Removed \" + str(n_rows - len(final_data)) + \" rows\")\n"
   ]
  },
  {
   "cell_type": "code",
   "execution_count": 15,
   "metadata": {},
   "outputs": [
    {
     "name": "stdout",
     "output_type": "stream",
     "text": [
      "Removed 0 rows\n"
     ]
    }
   ],
   "source": [
    "# Remove all loans that are too recent to have been paid off or\n",
    "# defaulted\n",
    "n_rows = len(final_data)\n",
    "final_data = final_data[final_data.loan_status.isin(['Fully Paid','Charged Off','Default'])]\n",
    "print(\"Removed \" + str(n_rows - len(final_data)) + \" rows\")\n"
   ]
  },
  {
   "cell_type": "markdown",
   "metadata": {},
   "source": [
    "### Drop null values"
   ]
  },
  {
   "cell_type": "markdown",
   "metadata": {},
   "source": [
    "Dealing with null values, we allow categorical variables to be null OTHER than grade, which is a particularly important category. All non-categorical variables must be non-null, and we drop rows that do not meet this requirement\n"
   ]
  },
  {
   "cell_type": "code",
   "execution_count": 17,
   "metadata": {},
   "outputs": [
    {
     "name": "stdout",
     "output_type": "stream",
     "text": [
      "Removed 547 rows\n"
     ]
    }
   ],
   "source": [
    "# Deal with null values. We allow cateogrical variables to be null\n",
    "# OTHER than grade, which is a particularly important categorical.\n",
    "# All non-categorical variables must be non-null, and we drop\n",
    "# rows that do not meet this requirement\n",
    "required_cols = set(cols_to_pick) - set(cat_cols) - set([\"id\"])\n",
    "required_cols.add(\"grade\")\n",
    "\n",
    "n_rows = len(final_data)\n",
    "final_data.dropna(subset = required_cols ,inplace=True)\n",
    "print(\"Removed \" + str(n_rows - len(final_data)) + \" rows\")\n"
   ]
  },
  {
   "cell_type": "markdown",
   "metadata": {},
   "source": [
    "## Calculate returns for each loan"
   ]
  },
  {
   "cell_type": "code",
   "execution_count": 18,
   "metadata": {},
   "outputs": [],
   "source": [
    "# Define the names of the four returns we'll be calculating\n",
    "ret_cols = [\"ret_PESS\", \"ret_OPT\",'ret_REAL1','ret_REAL2','ret_REAL3']"
   ]
  },
  {
   "cell_type": "markdown",
   "metadata": {},
   "source": [
    "#### Return Method 2 (pessimistic)\n",
    "Calculate the return using a simple annualized profit margin\n",
    "Pessimistic definition (method 2)\n"
   ]
  },
  {
   "cell_type": "code",
   "execution_count": 19,
   "metadata": {},
   "outputs": [],
   "source": [
    "final_data['term_num'] = final_data.term.str.extract('(\\d+)',expand=False).astype(int)\n",
    "final_data['ret_PESS'] = ( (final_data.total_pymnt - final_data.funded_amnt) \n",
    "                                            / final_data.funded_amnt ) * (12 / final_data['term_num'])\n"
   ]
  },
  {
   "cell_type": "markdown",
   "metadata": {},
   "source": [
    "#### Return Method 1 (optimistic)\n",
    "Assuming that if a loan gives a positive return, we can immediately find a similar loan to invest in; if the loan takes a loss, we use method 2 to compute the return\n"
   ]
  },
  {
   "cell_type": "code",
   "execution_count": 20,
   "metadata": {},
   "outputs": [],
   "source": [
    "final_data['ret_OPT'] = ( (final_data.total_pymnt - final_data.funded_amnt)\n",
    "                                            / final_data.funded_amnt ) * (12 / final_data['loan_length'])\n",
    "final_data.loc[final_data.ret_OPT < 0,'ret_OPT'] = final_data.ret_PESS[final_data.ret_OPT < 0]\n"
   ]
  },
  {
   "cell_type": "markdown",
   "metadata": {},
   "source": [
    "#### Return Method 3 (realistic)\n",
    "Make a realistic assmption on returns for loans returned early and implement the assumption in code"
   ]
  },
  {
   "cell_type": "code",
   "execution_count": null,
   "metadata": {},
   "outputs": [],
   "source": [
    "###############################\n",
    "###   Write your code  here ##\n",
    "##############################\n",
    "final_data['ret_REAL1'] =\n",
    "    \n",
    "\n",
    "#############################"
   ]
  },
  {
   "cell_type": "markdown",
   "metadata": {},
   "source": [
    "#### Return Method 4 (realistic)\n",
    "Make another realistic assmption on returns for loans returned early and implement the assumption in code"
   ]
  },
  {
   "cell_type": "code",
   "execution_count": null,
   "metadata": {},
   "outputs": [],
   "source": [
    "###############################\n",
    "###   Write your code  here ##\n",
    "##############################\n",
    "final_data['ret_REAL2'] =\n",
    "    \n",
    "\n",
    "#############################"
   ]
  },
  {
   "cell_type": "markdown",
   "metadata": {},
   "source": [
    "#### Return Method 4 (realistic)\n",
    "Make a third realistic assmption on returns for loans returned early and implement the assumption in code"
   ]
  },
  {
   "cell_type": "code",
   "execution_count": null,
   "metadata": {},
   "outputs": [],
   "source": [
    "###############################\n",
    "###   Write your code  here ##\n",
    "##############################\n",
    "final_data['ret_REAL3'] =\n",
    "    \n",
    "\n",
    "#############################"
   ]
  },
  {
   "cell_type": "markdown",
   "metadata": {},
   "source": [
    "## Data Exploration\n",
    "Find the percentage of loans by grade, the default by grade, and the return of each grade\n"
   ]
  },
  {
   "cell_type": "code",
   "execution_count": 21,
   "metadata": {},
   "outputs": [
    {
     "data": {
      "text/html": [
       "<div>\n",
       "<style scoped>\n",
       "    .dataframe tbody tr th:only-of-type {\n",
       "        vertical-align: middle;\n",
       "    }\n",
       "\n",
       "    .dataframe tbody tr th {\n",
       "        vertical-align: top;\n",
       "    }\n",
       "\n",
       "    .dataframe thead th {\n",
       "        text-align: right;\n",
       "    }\n",
       "</style>\n",
       "<table border=\"1\" class=\"dataframe\">\n",
       "  <thead>\n",
       "    <tr style=\"text-align: right;\">\n",
       "      <th></th>\n",
       "      <th>grade</th>\n",
       "      <th>default</th>\n",
       "      <th>int_rate</th>\n",
       "      <th>return_OPT</th>\n",
       "      <th>return_PESS</th>\n",
       "    </tr>\n",
       "  </thead>\n",
       "  <tbody>\n",
       "    <tr>\n",
       "      <th>A</th>\n",
       "      <td>15.263089</td>\n",
       "      <td>8.466036</td>\n",
       "      <td>6.877235</td>\n",
       "      <td>3.493205</td>\n",
       "      <td>0.754511</td>\n",
       "    </tr>\n",
       "    <tr>\n",
       "      <th>B</th>\n",
       "      <td>29.426487</td>\n",
       "      <td>17.974932</td>\n",
       "      <td>10.247267</td>\n",
       "      <td>3.939571</td>\n",
       "      <td>-0.137705</td>\n",
       "    </tr>\n",
       "    <tr>\n",
       "      <th>C</th>\n",
       "      <td>30.199839</td>\n",
       "      <td>27.982891</td>\n",
       "      <td>13.793047</td>\n",
       "      <td>4.054359</td>\n",
       "      <td>-1.334874</td>\n",
       "    </tr>\n",
       "    <tr>\n",
       "      <th>D</th>\n",
       "      <td>14.748937</td>\n",
       "      <td>37.896860</td>\n",
       "      <td>18.243862</td>\n",
       "      <td>4.185277</td>\n",
       "      <td>-2.486445</td>\n",
       "    </tr>\n",
       "    <tr>\n",
       "      <th>E</th>\n",
       "      <td>6.903233</td>\n",
       "      <td>46.035947</td>\n",
       "      <td>22.378225</td>\n",
       "      <td>4.604398</td>\n",
       "      <td>-3.264838</td>\n",
       "    </tr>\n",
       "    <tr>\n",
       "      <th>F</th>\n",
       "      <td>2.693136</td>\n",
       "      <td>54.433575</td>\n",
       "      <td>25.807916</td>\n",
       "      <td>3.746478</td>\n",
       "      <td>-4.352079</td>\n",
       "    </tr>\n",
       "    <tr>\n",
       "      <th>G</th>\n",
       "      <td>0.765279</td>\n",
       "      <td>58.911716</td>\n",
       "      <td>28.779178</td>\n",
       "      <td>3.406091</td>\n",
       "      <td>-4.889995</td>\n",
       "    </tr>\n",
       "  </tbody>\n",
       "</table>\n",
       "</div>"
      ],
      "text/plain": [
       "       grade    default   int_rate  return_OPT  return_PESS\n",
       "A  15.263089   8.466036   6.877235    3.493205     0.754511\n",
       "B  29.426487  17.974932  10.247267    3.939571    -0.137705\n",
       "C  30.199839  27.982891  13.793047    4.054359    -1.334874\n",
       "D  14.748937  37.896860  18.243862    4.185277    -2.486445\n",
       "E   6.903233  46.035947  22.378225    4.604398    -3.264838\n",
       "F   2.693136  54.433575  25.807916    3.746478    -4.352079\n",
       "G   0.765279  58.911716  28.779178    3.406091    -4.889995"
      ]
     },
     "execution_count": 21,
     "metadata": {},
     "output_type": "execute_result"
    }
   ],
   "source": [
    "perc_by_grade = (final_data.grade.value_counts()*100/len(final_data)).sort_index()\n",
    "default_by_grade = final_data.groupby(\"grade\").apply(lambda x : (x.loan_status != \"Fully Paid\").sum()*100/len(x) )\n",
    "ret_by_grade_OPT = final_data.groupby(\"grade\").apply(lambda x : np.mean(x.ret_OPT)*100 )\n",
    "ret_by_grade_PESS = final_data.groupby(\"grade\").apply(lambda x : np.mean(x.ret_PESS)*100 )\n",
    "int_rate_by_grade = final_data.groupby(\"grade\").apply(lambda x : np.mean(x.int_rate))\n",
    "\n",
    "combined = pd.DataFrame(perc_by_grade)\n",
    "combined['default'] = default_by_grade\n",
    "combined['int_rate'] = int_rate_by_grade\n",
    "combined['return_OPT'] = ret_by_grade_OPT\n",
    "combined['return_PESS'] = ret_by_grade_PESS\n",
    "combined['ret_REAL1'] = ret_by_grade_PESS\n",
    "combined['ret_REAL2'] = ret_by_grade_PESS\n",
    "combined['ret_REAL3'] = ret_by_grade_PESS\n",
    "\n",
    "combined\n"
   ]
  },
  {
   "cell_type": "markdown",
   "metadata": {},
   "source": [
    "## Save a Pickle\n",
    "Remove the total_pymnt from the list of continuous features; this variable is highly predictive of the outcome but is not known at the time the loan is issued"
   ]
  },
  {
   "cell_type": "code",
   "execution_count": 22,
   "metadata": {},
   "outputs": [],
   "source": [
    "continuous_features = [i for i in continuous_features if i not in [\"total_pymnt\", \"recoveries\"]]\n"
   ]
  },
  {
   "cell_type": "code",
   "execution_count": 23,
   "metadata": {},
   "outputs": [],
   "source": [
    "pickle.dump( [final_data, discrete_features, continuous_features, ret_cols], open(pickle_file, \"wb\") )"
   ]
  }
 ],
 "metadata": {
  "kernelspec": {
   "display_name": "Python 3",
   "language": "python",
   "name": "python3"
  },
  "language_info": {
   "codemirror_mode": {
    "name": "ipython",
    "version": 3
   },
   "file_extension": ".py",
   "mimetype": "text/x-python",
   "name": "python",
   "nbconvert_exporter": "python",
   "pygments_lexer": "ipython3",
   "version": "3.6.7"
  }
 },
 "nbformat": 4,
 "nbformat_minor": 2
}
