{
 "cells": [
  {
   "cell_type": "markdown",
   "metadata": {},
   "source": [
    "# Lending Club Part 2 - Decision Trees"
   ]
  },
  {
   "cell_type": "markdown",
   "metadata": {},
   "source": [
    "## Python Libraries "
   ]
  },
  {
   "cell_type": "code",
   "execution_count": 1,
   "metadata": {},
   "outputs": [
    {
     "data": {
      "text/html": [
       "<style>.container { width:90% !important; }</style>"
      ],
      "text/plain": [
       "<IPython.core.display.HTML object>"
      ]
     },
     "metadata": {},
     "output_type": "display_data"
    }
   ],
   "source": [
    "from IPython.core.display import display, HTML\n",
    "display(HTML(\"<style>.container { width:90% !important; }</style>\"))"
   ]
  },
  {
   "cell_type": "code",
   "execution_count": 2,
   "metadata": {},
   "outputs": [],
   "source": [
    "# Load general utilities\n",
    "# ----------------------\n",
    "import pandas as pd\n",
    "import datetime\n",
    "import numpy as np\n",
    "import pickle\n",
    "import time"
   ]
  },
  {
   "cell_type": "code",
   "execution_count": 3,
   "metadata": {},
   "outputs": [],
   "source": [
    "# Load sklearn utilities\n",
    "# ----------------------\n",
    "from sklearn.model_selection import train_test_split\n",
    "from sklearn import preprocessing\n",
    "\n",
    "from sklearn.metrics import accuracy_score, classification_report, roc_auc_score, roc_curve, brier_score_loss, mean_squared_error, r2_score\n",
    "from sklearn.calibration import calibration_curve\n",
    "\n",
    "# Load classifiers\n",
    "# ----------------\n",
    "from sklearn.tree import DecisionTreeClassifier"
   ]
  },
  {
   "cell_type": "code",
   "execution_count": 4,
   "metadata": {},
   "outputs": [],
   "source": [
    "# Other Packages\n",
    "# --------------\n",
    "from scipy.stats import kendalltau\n",
    "\n",
    "import matplotlib.pyplot as plt\n",
    "import matplotlib.axes as ax\n",
    "import seaborn as sns\n",
    "\n",
    "# suppress all warnings\n",
    "import warnings\n",
    "warnings.filterwarnings(\"ignore\")"
   ]
  },
  {
   "cell_type": "markdown",
   "metadata": {},
   "source": [
    "### Local Packages\n",
    "Make sure you have downloaded the files:\n",
    ">1. helpers_03_19.py\n",
    ">2. helpers_05_08.py\n",
    "\n",
    "and placed them in the same difrectory as the notebook"
   ]
  },
  {
   "cell_type": "code",
   "execution_count": 5,
   "metadata": {},
   "outputs": [],
   "source": [
    "# Local Packages\n",
    "# --------------\n",
    "from helpers_05_08 import visualize_tree\n",
    "from helpers_03_19 import prepare_data"
   ]
  },
  {
   "cell_type": "markdown",
   "metadata": {},
   "source": [
    "## Load the data "
   ]
  },
  {
   "cell_type": "markdown",
   "metadata": {},
   "source": [
    "Read the data and features from the pickle\n",
    "\n",
    "                   data - Pandas DataFrame with the data ingested\n",
    "                           in the previous \n",
    "      discrete_features - list of discrete features: \n",
    "                           'term','grade',etc.\n",
    "continuous_features - list of continuous features:\n",
    "                           'loan_amnt','funded_amnt','installment',etc.\n"
   ]
  },
  {
   "cell_type": "code",
   "execution_count": 6,
   "metadata": {},
   "outputs": [],
   "source": [
    "data,discrete_features,continuous_features,ret_cols=\\\n",
    "    pickle.load(open(\"./data/pickle/clean_data.pickle\",\"rb\"))"
   ]
  },
  {
   "cell_type": "markdown",
   "metadata": {},
   "source": [
    "## Engineer features"
   ]
  },
  {
   "cell_type": "markdown",
   "metadata": {},
   "source": [
    "Create a feature for the length of a person's credit history at the\n",
    "time the loan is issued and add feature to list of continuous features"
   ]
  },
  {
   "cell_type": "code",
   "execution_count": 7,
   "metadata": {},
   "outputs": [],
   "source": [
    "data['cr_hist']=(data.issue_d-data.earliest_cr_line)/np.timedelta64(1,'M')\n",
    "continuous_features.append('cr_hist')"
   ]
  },
  {
   "cell_type": "markdown",
   "metadata": {},
   "source": [
    "Create a target feature on whether loan ended in default"
   ]
  },
  {
   "cell_type": "code",
   "execution_count": 8,
   "metadata": {},
   "outputs": [],
   "source": [
    "data[\"outcome\"] = data.loan_status.isin([\"Charged Off\", \"Default\"])"
   ]
  },
  {
   "cell_type": "markdown",
   "metadata": {},
   "source": [
    "### Partition  Data into training and testing"
   ]
  },
  {
   "cell_type": "markdown",
   "metadata": {},
   "source": [
    "Generate a random vector of Boolean values based in which rows are assigned to either train or test"
   ]
  },
  {
   "cell_type": "code",
   "execution_count": 9,
   "metadata": {},
   "outputs": [],
   "source": [
    "default_seed = 1\n",
    "np.random.seed(default_seed)\n",
    "data['train']=np.random.choice([True, False],size=len(data),p=[0.7, 0.3])\n",
    "train = data.train.values"
   ]
  },
  {
   "cell_type": "markdown",
   "metadata": {},
   "source": [
    "Convert pandas sub dataframe of continuous features to a numpy matrix"
   ]
  },
  {
   "cell_type": "code",
   "execution_count": 10,
   "metadata": {},
   "outputs": [],
   "source": [
    "X_continuous=data[continuous_features].values"
   ]
  },
  {
   "cell_type": "markdown",
   "metadata": {},
   "source": [
    "Use pandas built in functionality to replace discrete variables with k values with k discrete dummy (0/1) variables, keep a record of dummy variables created in this way and convert the resulting pandas sub dataframe of dummy variables into a numpy matrix"
   ]
  },
  {
   "cell_type": "code",
   "execution_count": 11,
   "metadata": {},
   "outputs": [],
   "source": [
    "df_discrete=pd.get_dummies(data[discrete_features],\\\n",
    "                            dummy_na = True, prefix_sep = \"::\",\\\n",
    "                            drop_first = False)\n",
    "discrete_features_dummies = df_discrete.columns.tolist()\n",
    "X_discrete=df_discrete.values"
   ]
  },
  {
   "cell_type": "markdown",
   "metadata": {},
   "source": [
    "Pull together the discrete and continuous values into one \n",
    "matrix and create another matrix with the target values "
   ]
  },
  {
   "cell_type": "code",
   "execution_count": 12,
   "metadata": {},
   "outputs": [],
   "source": [
    "X=np.concatenate( (X_continuous, X_discrete), axis = 1 )\n",
    "y=data.outcome.values"
   ]
  },
  {
   "cell_type": "markdown",
   "metadata": {},
   "source": [
    "### Problem 1\n",
    "Write a script that verifies that the dummy variable conversion is correct.\n",
    "1. write a script that lists all the dummy variables related to a discrete variable\n",
    "    e.g. ['grade::A','grade::B',...] \n",
    "2. verify variables in list have values o or 1\n",
    "3. verify variables in list add up to one"
   ]
  },
  {
   "cell_type": "code",
   "execution_count": 41,
   "metadata": {},
   "outputs": [],
   "source": [
    "###############################\n",
    "###   Write your code  here  ##\n",
    "###############################\n",
    "\n",
    "\n",
    "\n",
    "###############################"
   ]
  },
  {
   "cell_type": "markdown",
   "metadata": {},
   "source": [
    "## Prepare functions to fit and evaluate models"
   ]
  },
  {
   "cell_type": "markdown",
   "metadata": {},
   "source": [
    "'final_features' is the list of features that are used, we could chose to exclude certain features to prevent leakage or exclude features that are already dependent on models (such as grade)"
   ]
  },
  {
   "cell_type": "code",
   "execution_count": 13,
   "metadata": {},
   "outputs": [],
   "source": [
    "exclusion=[]\n",
    "final_features=[i for i in discrete_features + continuous_features\\\n",
    "                  if i not in exclusion]"
   ]
  },
  {
   "cell_type": "code",
   "execution_count": 14,
   "metadata": {},
   "outputs": [],
   "source": [
    "data_dict =prepare_data(X,y,\\\n",
    "            data_subset = np.array([True]*len(data)),\\\n",
    "            n_samples_train=30000,n_samples_test=20000,\\\n",
    "            feature_subset=final_features,\n",
    "            continuous_features=continuous_features,\n",
    "            discrete_features_dummies=discrete_features_dummies,\n",
    "            data=data,\n",
    "            date_range_train=(data.issue_d.min(),data.issue_d.max()),\n",
    "            date_range_test=(data.issue_d.min(),data.issue_d.max()),\n",
    "            random_state=default_seed)"
   ]
  },
  {
   "cell_type": "code",
   "execution_count": 15,
   "metadata": {},
   "outputs": [],
   "source": [
    "all_features = pd.Series(continuous_features + discrete_features_dummies)\n",
    "idx = [i for i,j in enumerate(continuous_features + discrete_features_dummies)\n",
    "                                                     if j.split(\"::\")[0] in final_features]\n",
    "selected_features = all_features[idx]\n",
    "selected_features.reset_index(drop=True,inplace=True)"
   ]
  },
  {
   "cell_type": "code",
   "execution_count": 16,
   "metadata": {},
   "outputs": [],
   "source": [
    "random_state=default_seed\n",
    "np.random.seed(random_state)\n",
    "X_train=data_dict['X_train']\n",
    "y_train=data_dict['y_train']   \n",
    "X_test=data_dict['X_test']\n",
    "y_test=data_dict['y_test']\n",
    "filter_train=data_dict['train_set']    "
   ]
  },
  {
   "cell_type": "markdown",
   "metadata": {},
   "source": [
    "# Information Gain"
   ]
  },
  {
   "cell_type": "markdown",
   "metadata": {},
   "source": [
    "## Problem 2"
   ]
  },
  {
   "cell_type": "markdown",
   "metadata": {},
   "source": [
    "##### Write the code for a method:<br>\n",
    "\n",
    "   >**<font color=blue>findInformationGain</font>(<font color=brown> selected_feature,threshold,y_train,X_train</font>)**<br>\n",
    "\n",
    " where X and y are matrices and vectors as above, _feature_ is a string and   _threshold_ is a float\n",
    "\n",
    "e.g.:\n",
    "> <font color=blue>findInformationGain</font>\n",
    "(<font color=brown>'fico_range_high',710,y_train,X_train</font>)=0.010126<br>\n",
    "> <font color=blue>findInformationGain</font>(<font color=brown>'term:: 60 months',0.5,y_train,X_train</font>)=0.008358<br>\n",
    "> <font color=blue>findInformationGain</font>(<font color=brown>'term:: 36 months',0.5,y_train,X_train</font>)=0.008358<br>\n",
    "> <font color=blue>findInformationGain</font>(<font color=brown>'grade::E',0.495,y_train,X_train</font>)=0.007554<br>\n",
    "\n"
   ]
  },
  {
   "cell_type": "code",
   "execution_count": 212,
   "metadata": {},
   "outputs": [],
   "source": [
    "###############################\n",
    "###   Write your code  here  ##\n",
    "###############################\n",
    "\n",
    "\n",
    "\n",
    "###############################"
   ]
  },
  {
   "cell_type": "markdown",
   "metadata": {},
   "source": [
    "## Problem 3"
   ]
  },
  {
   "cell_type": "markdown",
   "metadata": {},
   "source": [
    "For at least one continuous feature, chart the information gain vs threshold par chart below"
   ]
  },
  {
   "cell_type": "markdown",
   "metadata": {},
   "source": [
    "<img src=\"InfoGain.png\" alt=\"Alt text that describes the graphic\" title=\"Title text\" />\n"
   ]
  },
  {
   "cell_type": "code",
   "execution_count": null,
   "metadata": {},
   "outputs": [],
   "source": [
    "###############################\n",
    "###   Write your code  here  ##\n",
    "###############################\n",
    "\n",
    "\n",
    "\n",
    "###############################"
   ]
  },
  {
   "cell_type": "markdown",
   "metadata": {},
   "source": [
    "## Problem 4\n",
    "##### Write the code for a method:<br>\n",
    "\n",
    "   >**<font color=blue>maxInformationGain</font>(<font color=brown> selected_feature,y_train,X_train</font>)**<br>\n",
    "\n",
    "\n",
    "The method finds the range of values the feature takes, computes the information gain for one hundred data points/thresholds evenly dispersed within this range and finds the closest to optimal threshold\n"
   ]
  },
  {
   "cell_type": "code",
   "execution_count": null,
   "metadata": {},
   "outputs": [],
   "source": [
    "###############################\n",
    "###   Write your code  here  ##\n",
    "###############################\n",
    "\n",
    "\n",
    "\n",
    "###############################"
   ]
  },
  {
   "cell_type": "markdown",
   "metadata": {},
   "source": [
    "Use the following script to create a table of the information gain of each feature and sort the list by information gain"
   ]
  },
  {
   "cell_type": "code",
   "execution_count": 18,
   "metadata": {},
   "outputs": [
    {
     "data": {
      "text/html": [
       "<div>\n",
       "<style scoped>\n",
       "    .dataframe tbody tr th:only-of-type {\n",
       "        vertical-align: middle;\n",
       "    }\n",
       "\n",
       "    .dataframe tbody tr th {\n",
       "        vertical-align: top;\n",
       "    }\n",
       "\n",
       "    .dataframe thead th {\n",
       "        text-align: right;\n",
       "    }\n",
       "</style>\n",
       "<table border=\"1\" class=\"dataframe\">\n",
       "  <thead>\n",
       "    <tr style=\"text-align: right;\">\n",
       "      <th></th>\n",
       "      <th>feature</th>\n",
       "      <th>threshold</th>\n",
       "      <th>information_gain</th>\n",
       "    </tr>\n",
       "  </thead>\n",
       "  <tbody>\n",
       "    <tr>\n",
       "      <th>11</th>\n",
       "      <td>int_rate</td>\n",
       "      <td>12.750</td>\n",
       "      <td>0.025886</td>\n",
       "    </tr>\n",
       "    <tr>\n",
       "      <th>17</th>\n",
       "      <td>grade::A</td>\n",
       "      <td>0.495</td>\n",
       "      <td>0.017066</td>\n",
       "    </tr>\n",
       "    <tr>\n",
       "      <th>10</th>\n",
       "      <td>fico_range_low</td>\n",
       "      <td>708.100</td>\n",
       "      <td>0.010126</td>\n",
       "    </tr>\n",
       "    <tr>\n",
       "      <th>9</th>\n",
       "      <td>fico_range_high</td>\n",
       "      <td>711.430</td>\n",
       "      <td>0.010126</td>\n",
       "    </tr>\n",
       "    <tr>\n",
       "      <th>15</th>\n",
       "      <td>term:: 60 months</td>\n",
       "      <td>0.495</td>\n",
       "      <td>0.008358</td>\n",
       "    </tr>\n",
       "    <tr>\n",
       "      <th>14</th>\n",
       "      <td>term:: 36 months</td>\n",
       "      <td>0.495</td>\n",
       "      <td>0.008358</td>\n",
       "    </tr>\n",
       "    <tr>\n",
       "      <th>21</th>\n",
       "      <td>grade::E</td>\n",
       "      <td>0.495</td>\n",
       "      <td>0.007554</td>\n",
       "    </tr>\n",
       "    <tr>\n",
       "      <th>4</th>\n",
       "      <td>dti</td>\n",
       "      <td>24.400</td>\n",
       "      <td>0.006710</td>\n",
       "    </tr>\n",
       "  </tbody>\n",
       "</table>\n",
       "</div>"
      ],
      "text/plain": [
       "             feature  threshold  information_gain\n",
       "11          int_rate     12.750          0.025886\n",
       "17          grade::A      0.495          0.017066\n",
       "10    fico_range_low    708.100          0.010126\n",
       "9    fico_range_high    711.430          0.010126\n",
       "15  term:: 60 months      0.495          0.008358\n",
       "14  term:: 36 months      0.495          0.008358\n",
       "21          grade::E      0.495          0.007554\n",
       "4                dti     24.400          0.006710"
      ]
     },
     "execution_count": 18,
     "metadata": {},
     "output_type": "execute_result"
    }
   ],
   "source": [
    "feature_lst=[]\n",
    "for select_feature in selected_features:\n",
    "    gg=maxInformationGain(select_feature,y_train,X_train)\n",
    "    feature_lst.append({'feature':select_feature,\n",
    "                       'threshold':np.mean(gg[gg==np.max(gg)].index),\n",
    "                       'information_gain':np.max(gg)})\n",
    "df=pd.DataFrame(feature_lst,columns=['feature','threshold','information_gain'])\n",
    "df.sort_values(by='information_gain',ascending=False).head(8)\n"
   ]
  },
  {
   "cell_type": "markdown",
   "metadata": {},
   "source": [
    "# Decision Tree"
   ]
  },
  {
   "cell_type": "markdown",
   "metadata": {},
   "source": [
    "As discussed in class, the decision tree object is **instantiated** by a call to 'number_of_leaf_nodes'. Upon instantiation we provide some of the parameters, most important of which is the number of nodes."
   ]
  },
  {
   "cell_type": "code",
   "execution_count": 20,
   "metadata": {},
   "outputs": [],
   "source": [
    "number_of_leaf_nodes=5\n",
    "decision_tree=DecisionTreeClassifier(max_leaf_nodes=number_of_leaf_nodes,\\\n",
    "                                     criterion='entropy')\n"
   ]
  },
  {
   "cell_type": "markdown",
   "metadata": {},
   "source": [
    "After instantiation, we would like to **'fit'** the model, namely compute the coefficients of the underlying model. The time measurements is for our own track of execution time and will not be used subsequently. "
   ]
  },
  {
   "cell_type": "code",
   "execution_count": 21,
   "metadata": {},
   "outputs": [
    {
     "name": "stdout",
     "output_type": "stream",
     "text": [
      "Fit time: 0.11 seconds\n"
     ]
    }
   ],
   "source": [
    "start_time=time.time()\n",
    "decision_tree=decision_tree.fit(X_train, y_train)\n",
    "end_time=time.time()\n",
    "print(\"Fit time: \"+str(round(end_time-start_time,2))+\" seconds\")"
   ]
  },
  {
   "cell_type": "markdown",
   "metadata": {},
   "source": [
    "### Tree representation\n",
    "The script below prints the raw unstructured representation of a decision tree in the model, aka the tree coefficients "
   ]
  },
  {
   "cell_type": "code",
   "execution_count": 22,
   "metadata": {},
   "outputs": [
    {
     "name": "stdout",
     "output_type": "stream",
     "text": [
      "children_left:\t [ 1  3  5 -1 -1  7 -1 -1 -1]\n",
      "children_right:\t [ 2  4  6 -1 -1  8 -1 -1 -1]\n",
      "feature #:\t [11 17 11 -2 -2 30 -2 -2 -2]\n",
      "threshold:\t [12.83, 0.5, 18.36, -2.0, -2.0, 0.5, -2.0, -2.0, -2.0]\n",
      "features used in the tree:\n",
      "\t 11 int_rate\n",
      "\t 17 grade::A\n",
      "\t 11 int_rate\n",
      "\t 30 home_ownership::MORTGAGE\n"
     ]
    }
   ],
   "source": [
    "def rawPrint(decision_tree):\n",
    "    n_nodes=decision_tree.tree_.node_count\n",
    "    children_left=decision_tree.tree_.children_left\n",
    "    children_right=decision_tree.tree_.children_right\n",
    "    feature=decision_tree.tree_.feature\n",
    "    threshold=decision_tree.tree_.threshold\n",
    "\n",
    "    print('children_left:\\t',children_left)\n",
    "    print('children_right:\\t',children_right)\n",
    "    print('feature #:\\t',feature)\n",
    "    print('threshold:\\t',[float((str(n).split('.'))[0]+'.'\\\n",
    "                 +(str(n).split('.'))[1][:2])\\\n",
    "           for n in list(threshold)]) \n",
    "    print('features used in the tree:')\n",
    "    for i in feature:\n",
    "        if i>0:\n",
    "            print('\\t',i,selected_features[i])\n",
    "    return\n",
    "\n",
    "rawPrint(decision_tree)"
   ]
  },
  {
   "cell_type": "markdown",
   "metadata": {},
   "source": [
    "### Problem 2:"
   ]
  },
  {
   "cell_type": "markdown",
   "metadata": {},
   "source": [
    "Write a method that prints a structured representation of the decision tree in memory as below (you can ignore color and apply tabs) "
   ]
  },
  {
   "cell_type": "markdown",
   "metadata": {},
   "source": [
    "The binary tree structure has 9 nodes with the following structure:<br>\n",
    "<font color=red>node=0</font> test: if <font color=blue>int_rate</font><=12.84 goto node 1 else to node 2<br>\n",
    "> <font color=red>node=1</font> test: if <font color=blue>grade::A</font><=0.50 goto node 3 else to node 4<br>\n",
    "> <font color=red>node=2</font> test: if <font color=blue>int_rate</font><=18.37 goto node 5 else to node 6<br>\n",
    ">>\t<font color=red>node=3</font> leaf<br>\n",
    ">>\t<font color=red>node=4</font> leaf<br>\n",
    ">>\t<font color=red>node=5</font> test: if <font color=blue>home_ownership::MORTGAGE</font><=0.50 goto node 7 else to node 8<br>\n",
    ">>\t<font color=red>node=6</font> leaf<br>\n",
    ">>>\t<font color=red>node=7</font> leaf<br>\n",
    ">>>\t<font color=red>node=8</font> leaf<br>\n",
    "\n"
   ]
  },
  {
   "cell_type": "code",
   "execution_count": null,
   "metadata": {},
   "outputs": [],
   "source": [
    "###############################\n",
    "###   Write your code  here  ##\n",
    "###############################\n",
    "\n",
    "\n",
    "\n",
    "###############################"
   ]
  },
  {
   "cell_type": "markdown",
   "metadata": {},
   "source": [
    "### Short  trees\n",
    "The first decision node should be the feature and threshold with highest information gain we found earlier, depending on the features that where included in *selected_features*"
   ]
  },
  {
   "cell_type": "code",
   "execution_count": 23,
   "metadata": {},
   "outputs": [
    {
     "name": "stdout",
     "output_type": "stream",
     "text": [
      "children_left:\t [ 1 -1 -1]\n",
      "children_right:\t [ 2 -1 -1]\n",
      "feature #:\t [11 -2 -2]\n",
      "threshold:\t [12.83, -2.0, -2.0]\n",
      "features used in the tree:\n",
      "\t 11 int_rate\n"
     ]
    }
   ],
   "source": [
    "number_of_leaf_nodes=2\n",
    "decision_tree=DecisionTreeClassifier(max_leaf_nodes=number_of_leaf_nodes,\\\n",
    "                                     criterion='entropy')\n",
    "decision_tree=decision_tree.fit(X_train, y_train)\n",
    "rawPrint(decision_tree)"
   ]
  },
  {
   "cell_type": "markdown",
   "metadata": {},
   "source": [
    "Apply the exclusions bellow to the set of instruments and compare gain maximizing feature as computed above and features used in first decision of a short tree"
   ]
  },
  {
   "cell_type": "markdown",
   "metadata": {},
   "source": [
    "> exclusion0=[\"grade\",\"int_rate\",\"installment\"]<br>\n",
    "> exclusion1=[\"int_rate\", \"installment\"]<br>\n",
    "> exclusion2=['loan_amnt','funded_amnt','installment','annual_inc']<br>\n",
    "> exclusion3=['funded_amnt','annual_inc']<br>\n",
    "> exclusion4=['grade','annual_inc']<br>"
   ]
  },
  {
   "cell_type": "markdown",
   "metadata": {},
   "source": [
    "                information Gain      short tree                \n",
    "exclusion0<br>\n",
    "exclusion1<br>\n",
    "exclusion2<br>\n",
    "exclusion3<br>\n",
    "exclusion4<br>"
   ]
  },
  {
   "cell_type": "code",
   "execution_count": 24,
   "metadata": {},
   "outputs": [
    {
     "data": {
      "text/plain": [
       "Text(0.5,1,'# leaf nodes = 2')"
      ]
     },
     "execution_count": 24,
     "metadata": {},
     "output_type": "execute_result"
    },
    {
     "data": {
      "image/png": "[encoded data removed]",
      "text/plain": [
       "<Figure size 432x288 with 1 Axes>"
      ]
     },
     "metadata": {},
     "output_type": "display_data"
    }
   ],
   "source": [
    "fig,axi = plt.subplots()\n",
    "decision_tree=DecisionTreeClassifier(max_leaf_nodes=\\\n",
    "                                     number_of_leaf_nodes,\\\n",
    "                                     criterion='entropy')\n",
    "visualize_tree(decision_tree, X_train.T[[4,9]].T, y_train, ax=axi)\n",
    "axi.set_title('# leaf nodes = {0}'.format(number_of_leaf_nodes))"
   ]
  }
 ],
 "metadata": {
  "kernelspec": {
   "display_name": "Python 3",
   "language": "python",
   "name": "python3"
  },
  "language_info": {
   "codemirror_mode": {
    "name": "ipython",
    "version": 3
   },
   "file_extension": ".py",
   "mimetype": "text/x-python",
   "name": "python",
   "nbconvert_exporter": "python",
   "pygments_lexer": "ipython3",
   "version": "3.6.7"
  }
 },
 "nbformat": 4,
 "nbformat_minor": 2
}
