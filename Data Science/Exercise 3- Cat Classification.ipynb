{
 "cells": [
  {
   "cell_type": "markdown",
   "metadata": {},
   "source": [
    "# Execrcise 3 - Cat Classification"
   ]
  },
  {
   "cell_type": "markdown",
   "metadata": {},
   "source": [
    "In this exercise you will develop a logistic regression classifier for classifying images of cats. You will train and test the classifier using the accompanying database of images saved in the h5 format. You will then be able to test the classifier on your own images."
   ]
  },
  {
   "cell_type": "markdown",
   "metadata": {},
   "source": [
    "Apart from the notebook you will need to place on the same directory the following:\n",
    "     lr_utils.py\n",
    "     datssets <directory>\n",
    "    "
   ]
  },
  {
   "cell_type": "markdown",
   "metadata": {},
   "source": [
    "### Libraires \n",
    "Make sure the following libraires below are all installed on your system, they are typiaclly included in standard Anaconda."
   ]
  },
  {
   "cell_type": "code",
   "execution_count": 32,
   "metadata": {},
   "outputs": [],
   "source": [
    "import numpy as np\n",
    "import pandas as pd\n",
    "import scipy\n",
    "from scipy import ndimage\n",
    "import matplotlib\n",
    "import matplotlib.pyplot as plt\n",
    "import h5py\n",
    "import skimage\n",
    "import skimage.transform\n"
   ]
  },
  {
   "cell_type": "markdown",
   "metadata": {},
   "source": [
    "### Local Libraires\n",
    "Make sure the file lr_utils.py is saved in the same directory as the notebook. "
   ]
  },
  {
   "cell_type": "code",
   "execution_count": 33,
   "metadata": {},
   "outputs": [],
   "source": [
    "from lr_utils import load_dataset\n"
   ]
  },
  {
   "cell_type": "markdown",
   "metadata": {},
   "source": [
    "### Loading the data into memory"
   ]
  },
  {
   "cell_type": "markdown",
   "metadata": {},
   "source": [
    "Load the data and look at the dimesions of the new data objects, notice also the size of the training and testing set."
   ]
  },
  {
   "cell_type": "code",
   "execution_count": 34,
   "metadata": {},
   "outputs": [
    {
     "name": "stdout",
     "output_type": "stream",
     "text": [
      "Number of training examples: m_train = 209\n",
      "Number of test examples: m_test = 50\n",
      "Height/Width of each image: num_px = 64\n",
      "Each image is of size: (64, 64, 3)\n",
      "train_set_x shape: (209, 64, 64, 3)\n",
      "train_set_y shape: (1, 209)\n",
      "test_set_x shape : (50, 64, 64, 3)\n",
      "test_set_y shape: (1, 50)\n"
     ]
    }
   ],
   "source": [
    "#Loading  train an d test data\n",
    "train_set_x_orig,train_set_y,test_set_x_orig,test_set_y,classes=load_dataset()\n",
    "#Lets get some basic data about our image numpy arrays\n",
    "m_train = train_set_x_orig.shape[0]\n",
    "m_test = test_set_x_orig.shape[0]\n",
    "num_px = train_set_x_orig.shape[1]\n",
    "\n",
    "print(\"Number of training examples: m_train = \" + str(m_train))\n",
    "print(\"Number of test examples: m_test = \" + str(m_test))\n",
    "print(\"Height/Width of each image: num_px = \" + str(num_px))\n",
    "print(\"Each image is of size: (\"+ str(num_px) + \", \" + str(num_px) + \", 3)\")\n",
    "print(\"train_set_x shape: \" + str(train_set_x_orig.shape))\n",
    "print(\"train_set_y shape: \" + str(train_set_y.shape))\n",
    "print(\"test_set_x shape : \" + str(test_set_x_orig.shape))\n",
    "print(\"test_set_y shape: \"+ str(test_set_y.shape))\n"
   ]
  },
  {
   "cell_type": "markdown",
   "metadata": {},
   "source": [
    "To better understand the data set let us look at one item in the data. This is  the 3D matrix: "
   ]
  },
  {
   "cell_type": "code",
   "execution_count": 35,
   "metadata": {},
   "outputs": [
    {
     "name": "stdout",
     "output_type": "stream",
     "text": [
      "[[[164 178 186]\n",
      "  [165 179 187]\n",
      "  [167 180 189]\n",
      "  ...\n",
      "  [166 177 181]\n",
      "  [166 177 181]\n",
      "  [165 176 181]]\n",
      "\n",
      " [[163 177 186]\n",
      "  [166 179 187]\n",
      "  [168 180 189]\n",
      "  ...\n",
      "  [168 177 182]\n",
      "  [166 177 181]\n",
      "  [166 177 181]]\n",
      "\n",
      " [[163 178 187]\n",
      "  [166 180 188]\n",
      "  [168 181 190]\n",
      "  ...\n",
      "  [168 178 183]\n",
      "  [168 178 183]\n",
      "  [167 178 182]]\n",
      "\n",
      " ...\n",
      "\n",
      " [[144 118  80]\n",
      "  [133 108  72]\n",
      "  [ 64  56  39]\n",
      "  ...\n",
      "  [122 101  70]\n",
      "  [105  88  62]\n",
      "  [156 125  86]]\n",
      "\n",
      " [[144 118  80]\n",
      "  [112  94  70]\n",
      "  [ 37  50  66]\n",
      "  ...\n",
      "  [ 96  82  60]\n",
      "  [113  93  65]\n",
      "  [164 130  89]]\n",
      "\n",
      " [[146 119  80]\n",
      "  [108  88  63]\n",
      "  [ 31  38  44]\n",
      "  ...\n",
      "  [107  90  61]\n",
      "  [140 113  75]\n",
      "  [158 128  85]]]\n"
     ]
    }
   ],
   "source": [
    "print(train_set_x_orig[22])"
   ]
  },
  {
   "cell_type": "markdown",
   "metadata": {},
   "source": [
    "And the following function applies matplotlib libraries to show the image graphically as well as the classification annotation:"
   ]
  },
  {
   "cell_type": "code",
   "execution_count": 36,
   "metadata": {},
   "outputs": [
    {
     "data": {
      "image/png": "[encoded data removed]",
      "text/plain": [
       "<Figure size 288x144 with 1 Axes>"
      ]
     },
     "metadata": {},
     "output_type": "display_data"
    }
   ],
   "source": [
    "ROWS=64;COLS=64;CHANNELS=3;\n",
    "classes = {0:'not a cat',\n",
    "           1:'a cat'}\n",
    "def show_image(X, y, idx):\n",
    "    image = X[idx]\n",
    "    image = image.reshape((ROWS, COLS, CHANNELS))\n",
    "    plt.figure(figsize=(4,2))\n",
    "    plt.imshow(image)\n",
    "    plt.title(\"This is {}\".format(classes[y[0,idx]]))\n",
    "    plt.show()\n",
    "    \n",
    "show_image(train_set_x_orig, train_set_y, 22)"
   ]
  },
  {
   "cell_type": "markdown",
   "metadata": {},
   "source": [
    "To make it easier to use these objects with standard NumPy library we changr the shape of the array, make sure you are clear about the new dimensions."
   ]
  },
  {
   "cell_type": "code",
   "execution_count": 37,
   "metadata": {},
   "outputs": [
    {
     "name": "stdout",
     "output_type": "stream",
     "text": [
      "train_set_x_flatten shape: (12288, 209)\n",
      "train_set_y shape: (1, 209)\n",
      "test_set_x_flatten shape: (12288, 50)\n",
      "test_set_y shape: (1, 50)\n"
     ]
    }
   ],
   "source": [
    "# We flatten the numpy array from (num_px, num_px, 3) to (num_px*num_px*3, 1) \n",
    "# this will make it easier for us so that each image in one numpy array column\n",
    "train_set_x_flatten = train_set_x_orig.reshape(train_set_x_orig.shape[0], -1).T\n",
    "test_set_x_flatten = test_set_x_orig.reshape(test_set_x_orig.shape[0], -1).T\n",
    "\n",
    "print(\"train_set_x_flatten shape: \" + str(train_set_x_flatten.shape))\n",
    "print(\"train_set_y shape: \" + str(train_set_y.shape))\n",
    "print(\"test_set_x_flatten shape: \"+ str(test_set_x_flatten.shape))\n",
    "print(\"test_set_y shape: \"+ str(test_set_y.shape))\n",
    "\n",
    "#Standardize the dataset for images by dividing each by 255\n",
    "train_set_x = train_set_x_flatten/255\n",
    "test_set_x = test_set_x_flatten/255"
   ]
  },
  {
   "cell_type": "markdown",
   "metadata": {},
   "source": [
    "## Logistic Regression Functions\n",
    "\n",
    "In ther next section we will write the main functions seperatly and bring them all together into a model. "
   ]
  },
  {
   "cell_type": "code",
   "execution_count": 38,
   "metadata": {},
   "outputs": [],
   "source": [
    "#We will be using a sigmoid function for our Activation, in Neural Networks most are not ReLU due to speed of calc\n",
    "\n",
    "def sigmoid(z):\n",
    "    s = 1/(1+np.exp(-(z)))\n",
    "    return s\n",
    "\n",
    "#Create function to set both w and b to 0 to start with\n",
    "def initialize_with_zeros(dim):\n",
    "    w = np.zeros((dim,1))\n",
    "    b = 0\n",
    "    return w,b\n"
   ]
  },
  {
   "cell_type": "markdown",
   "metadata": {},
   "source": [
    "Write the code for  function\n",
    ">**<font color=blue>propagate</font>(<font color=brown>w,b,X,Y</font>)**<br>\n",
    "   \n",
    " as follows:\n",
    " 1. Compute the output 'A' for the weights w,b, and input X\n",
    "    The product of a matrix and vetor is computed with the numpy function\n",
    "    np.dot, np.dot(Mat,Vec), make sure the dimesions allign you might need\n",
    "    to transpose the matric with 'A.T'\n",
    " 2. Compute the cost/J (see lession 11), make sure the cost is returned \n",
    "     as a scallar, in case your computation returns a 1x1x1 matrix you can \n",
    "     use the numpy function squeez, np.squeez()\n",
    " 3. Compute the direction of the gradient (grads) dw, db\n",
    " 4. Return the grads and cost "
   ]
  },
  {
   "cell_type": "code",
   "execution_count": null,
   "metadata": {},
   "outputs": [],
   "source": [
    "def propagate(w, b, X, Y):\n",
    "    ###############################\n",
    "    ###   Write your code  here  ##\n",
    "    ###############################\n",
    "\n",
    "\n",
    "    ###############################\n",
    "    return grads,cost"
   ]
  },
  {
   "cell_type": "markdown",
   "metadata": {},
   "source": [
    "Write the code for  function\n",
    ">**<font color=blue>optimize</font>(<font color=brown>w,b,X,Y,num_iterations,learning_rate</font>)**<br>\n",
    "   \n",
    " as follows:\n",
    " 1. Execute one intration of with propagate and save cost and grads\n",
    " 2. apdate the weights w and b appropriatly\n",
    " 3. save the cost of every 100th iteration in a list 'costs'\n",
    " 4. return weights, gradients and costs \n"
   ]
  },
  {
   "cell_type": "code",
   "execution_count": 45,
   "metadata": {},
   "outputs": [],
   "source": [
    "def optimize(w,b,X,Y):\n",
    "    costs=[]\n",
    "    for i in range(num_iterations):\n",
    "        ###############################\n",
    "        ###   Write your code  here  ##\n",
    "        ###############################\n",
    "\n",
    "\n",
    "        ###############################\n",
    "        if i % 100 == 0:\n",
    "            costs.append(cost)\n",
    "\n",
    "    return params,grads,costs"
   ]
  },
  {
   "cell_type": "markdown",
   "metadata": {},
   "source": [
    "The code below gives a probability forecast and as such the model will be a regression model and not a classifier. Modify the code below for\n",
    ">**<font color=blue>predict</font>(<font color=brown>w,b,X</font>)**<br>\n",
    "\n",
    "to convert the model into a classifier "
   ]
  },
  {
   "cell_type": "code",
   "execution_count": 48,
   "metadata": {},
   "outputs": [],
   "source": [
    "def predict(w, b, X):\n",
    "    m = X.shape[1]\n",
    "    Y_prediction = np.zeros((1,m))\n",
    "    w = w.reshape(X.shape[0],1)\n",
    "    A = sigmoid(np.dot(w.T,X)+b)\n",
    "    #########################################\n",
    "    ###   Modify code in this region only  ##\n",
    "    #########################################\n",
    "\n",
    "    Y_prediction=A\n",
    "\n",
    "    #########################################\n",
    "    return(Y_prediction)"
   ]
  },
  {
   "cell_type": "markdown",
   "metadata": {},
   "source": [
    "## Constructing the model\n",
    "The model is brought together in the following function"
   ]
  },
  {
   "cell_type": "code",
   "execution_count": 54,
   "metadata": {},
   "outputs": [],
   "source": [
    "def model(X_train, Y_train, X_test, Y_test, num_iterations = 2000, learning_rate = 0.5, print_cost = False):\n",
    "    global D\n",
    "    #Initialize paramters with 0\n",
    "    w,b = initialize_with_zeros(X_train.shape[0])\n",
    "    #Perform Gradient Descent\n",
    "    parameters, grads, costs = optimize(w,b,X_train,Y_train,num_iterations,learning_rate,print_cost)\n",
    "    #Retrieve parameters w and b from dictionary \"parameters\"\n",
    "    w = parameters[\"w\"]\n",
    "    b = parameters[\"b\"]\n",
    "    #Predict test/train set examples\n",
    "    Y_prediction_test = predict(w,b,X_test)\n",
    "    Y_prediction_train = predict(w,b,X_train)\n",
    "    \n",
    "    d = {\"costs\": costs,\n",
    "         \"Y_prediction_test\": Y_prediction_test,\n",
    "         \"Y_prediction_train\": Y_prediction_train,\n",
    "         \"w\":w,\n",
    "         \"b\":b,\n",
    "         \"learning_rate\": learning_rate,\n",
    "         \"num_iterations\": num_iterations}\n",
    "    D = d\n",
    "    return(100-np.mean(np.abs(Y_prediction_train-Y_train))*100,100-np.mean(np.abs(Y_prediction_test-Y_test))*100)\n"
   ]
  },
  {
   "cell_type": "code",
   "execution_count": 61,
   "metadata": {
    "scrolled": true
   },
   "outputs": [
    {
     "name": "stdout",
     "output_type": "stream",
     "text": [
      "train accuracy: 96.65071770334929 %\n",
      "test accuracy: 72.0 %\n"
     ]
    }
   ],
   "source": [
    "train_accuracy,test_accuracy=model(train_set_x, train_set_y, test_set_x, test_set_y, num_iterations=1000, learning_rate=0.005, print_cost=True)\n",
    "print(\"train accuracy: {} %\".format(train_accuracy))\n",
    "print(\"test accuracy: {} %\".format(test_accuracy))\n"
   ]
  },
  {
   "cell_type": "markdown",
   "metadata": {},
   "source": [
    "### Learning Curve\n",
    "Write a script that would chart the learning curve of the model, identify after how many iterations over fitting will be observed, what is the accuracy on the test data for this number of iterations?"
   ]
  },
  {
   "cell_type": "code",
   "execution_count": null,
   "metadata": {},
   "outputs": [],
   "source": [
    "###############################\n",
    "###   Write your code  here  ##\n",
    "###############################\n",
    "\n",
    "\n",
    "###############################"
   ]
  },
  {
   "cell_type": "markdown",
   "metadata": {},
   "source": [
    "## Cross Validation\n",
    "\n",
    "Divide the training set into three groups of 69 images, and use cross validation to find the number optimal number of iterations, what is the performance on the test set for this number of iterations?"
   ]
  },
  {
   "cell_type": "code",
   "execution_count": null,
   "metadata": {},
   "outputs": [],
   "source": [
    "###############################\n",
    "###   Write your code  here  ##\n",
    "###############################\n",
    "\n",
    "\n",
    "###############################"
   ]
  },
  {
   "cell_type": "markdown",
   "metadata": {},
   "source": [
    "## Test your own image\n",
    "Create a new file in the same directory <myImages> and place there images of your choice, the function below will attempt to determine whether they are cats. How succseful is the model compaered to your own annotation?\n"
   ]
  },
  {
   "cell_type": "code",
   "execution_count": 62,
   "metadata": {},
   "outputs": [],
   "source": [
    "def run_on_own_image(my_image):\n",
    "    fname = my_image\n",
    "    image = np.array(ndimage.imread(fname,flatten=False))\n",
    "    my_image = scipy.misc.imresize(image, size=(num_px,num_px)).reshape((1,num_px*num_px*3)).T\n",
    "    my_predicted_image = predict(D[\"w\"], D[\"b\"],my_image)\n",
    "    \n",
    "    plt.imshow(image)\n",
    "    print(\"y = \" + str(np.squeeze(my_predicted_image)) + \", your algorithm predicted a \\\"\" \n",
    "      + classes[int(np.squeeze(my_predicted_image)),].decode(\"utf-8\") + \"\\\" picture.\")\n",
    "    labelText = tk.Label(text=\"Your algorithm predicted a \" + classes[int(np.squeeze(my_predicted_image)),].decode(\"utf-8\"))\n",
    "    labelText.text = \"Your algorithm predicted a \" + classes[int(np.squeeze(my_predicted_image)),].decode(\"utf-8\")\n",
    "    labelText.pack()    \n",
    "    img = Image.open(fname)\n",
    "    img = img.resize((300,300), Image.ANTIALIAS)\n",
    "    photo = ImageTk.PhotoImage(img)\n",
    "    label = tk.Label(image=photo)\n",
    "    label.image = photo\n",
    "    label.pack()\n"
   ]
  },
  {
   "cell_type": "code",
   "execution_count": 2,
   "metadata": {
    "scrolled": true
   },
   "outputs": [],
   "source": [
    "fname='<myfile.jpeg>'\n",
    "image = plt.imread(fname)\n",
    "my_image = skimage.transform.resize(image, (num_px,num_px),mode='constant').reshape((1,num_px*num_px*3)).T\n",
    "my_predicted_image = predict(D[\"w\"], D[\"b\"],my_image)\n",
    "print(\"Algorithm predicted \"+ str(np.squeeze(my_predicted_image)))\n",
    "plt.imshow(image)\n"
   ]
  }
 ],
 "metadata": {
  "kernelspec": {
   "display_name": "Python 3",
   "language": "python",
   "name": "python3"
  },
  "language_info": {
   "codemirror_mode": {
    "name": "ipython",
    "version": 3
   },
   "file_extension": ".py",
   "mimetype": "text/x-python",
   "name": "python",
   "nbconvert_exporter": "python",
   "pygments_lexer": "ipython3",
   "version": "3.6.7"
  }
 },
 "nbformat": 4,
 "nbformat_minor": 2
}
